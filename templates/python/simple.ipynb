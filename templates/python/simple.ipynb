{
 "cells": [
  {
   "cell_type": "markdown",
   "metadata": {},
   "source": [
    "```\n",
    " Simple Simulation without any additional software as referenced by \n",
    " with types and a few minor enhancements \n",
    " Introduction to the Modeling and Analysis of Complex Systems \n",
    " Sayama pg 41\n",
    " ```\n"
   ]
  },
  {
   "cell_type": "code",
   "execution_count": 1,
   "metadata": {},
   "outputs": [],
   "source": [
    "import matplotlib as mpl\n",
    "import matplotlib.pyplot as plt\n",
    "from typing import List\n",
    "x: float #x output state variable\n",
    "r: float #growth rate \n",
    "t: float #time state variable\n",
    "timesteps: List[float]\n"
   ]
  },
  {
   "cell_type": "code",
   "execution_count": 2,
   "metadata": {},
   "outputs": [],
   "source": [
    "\n",
    "def initialize():\n",
    "  global x, result, t, timesteps, r\n",
    "  x = .1 \n",
    "  r = 1.1\n",
    "  t = 0\n",
    "  timesteps = [t]\n",
    "  result = [x]\n",
    "\n",
    "def observe():\n",
    "    global x, result, t, timesteps\n",
    "    timesteps.append(t)\n",
    "    result.append(x)\n",
    "\n",
    "def update():\n",
    "    global x, result, t, r\n",
    "    x = r * x\n",
    "    t = t + 1 \n",
    "\n",
    "initialize()\n",
    "while t < 30:\n",
    "  update()\n",
    "  observe()\n"
   ]
  },
  {
   "cell_type": "code",
   "execution_count": 3,
   "metadata": {},
   "outputs": [
    {
     "data": {
      "text/plain": [
       "[<matplotlib.lines.Line2D at 0x122de1150>]"
      ]
     },
     "execution_count": 3,
     "metadata": {},
     "output_type": "execute_result"
    },
    {
     "data": {
      "image/png": "[encoded data removed]",
      "text/plain": [
       "<Figure size 432x288 with 1 Axes>"
      ]
     },
     "metadata": {
      "needs_background": "light"
     },
     "output_type": "display_data"
    }
   ],
   "source": [
    "plt.plot(timesteps, result)"
   ]
  }
 ],
 "metadata": {
  "kernelspec": {
   "display_name": "Python 3.10.0 ('venv': venv)",
   "language": "python",
   "name": "python3"
  },
  "language_info": {
   "codemirror_mode": {
    "name": "ipython",
    "version": 3
   },
   "file_extension": ".py",
   "mimetype": "text/x-python",
   "name": "python",
   "nbconvert_exporter": "python",
   "pygments_lexer": "ipython3",
   "version": "3.10.0"
  },
  "orig_nbformat": 4,
  "vscode": {
   "interpreter": {
    "hash": "84403094e7879e50c63390ec8c9b7307013f744daffbace070f7164257cc56ca"
   }
  }
 },
 "nbformat": 4,
 "nbformat_minor": 2
}
